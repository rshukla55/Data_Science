{
 "cells": [
  {
   "cell_type": "markdown",
   "id": "78889334",
   "metadata": {},
   "source": [
    "# Probability calculations"
   ]
  },
  {
   "cell_type": "code",
   "execution_count": 2,
   "id": "762bd4cd",
   "metadata": {},
   "outputs": [
    {
     "name": "stdout",
     "output_type": "stream",
     "text": [
      "66.68\n"
     ]
    }
   ],
   "source": [
    "import numpy as np\n",
    "import random\n",
    "\n",
    "# The probability of rolling an even number or gretaer than 7.\n",
    "\n",
    "# function to rolling the dice \n",
    "def roll_the_dice(n_simulations = 100000):    \n",
    "    count = 0\n",
    "    # Each iteration of for loop is the trail     \n",
    "    for i in range(n_simulations):        \n",
    "        # roll each die\n",
    "        die1 = random.randint(1,6)        \n",
    "        die2 = random.randint(1,6)\n",
    "        \n",
    "        score = die1 + die2;\n",
    "        \n",
    "        if((score > 7) or (score%2 == 0)):\n",
    "            count += 1;\n",
    "    \n",
    "    return count/n_simulations\n",
    "\n",
    "print(np.round(roll_the_dice()*100,2))\n",
    "    "
   ]
  },
  {
   "cell_type": "code",
   "execution_count": 3,
   "id": "4bb71fcc",
   "metadata": {},
   "outputs": [
    {
     "name": "stdout",
     "output_type": "stream",
     "text": [
      "Probability= 0.2403\n"
     ]
    }
   ],
   "source": [
    "# A box contains 12 transitors of type A and 18 of type B\n",
    "# One transitor is taken out at random and returned.\n",
    "# This process is repeated\n",
    "# Determine the probability that the first chosen is type A and scond is type B\n",
    "\n",
    "import random\n",
    "\n",
    "trials = 10000  # total number of trials\n",
    "totalA = 12 # total number of A transitors\n",
    "totalB = 18 # total number of B transitors\n",
    "\n",
    "successes = 0 # variable keeping track of how many succesfull pulls were there\n",
    "\n",
    "choicelist = list('A'*totalA + 'B'*totalB) # list containing transitors to correct proportion\n",
    "\n",
    "def transitor():\n",
    "    return random.choice(choicelist)\n",
    "\n",
    "for i in range(trials):\n",
    "    try1 = transitor()\n",
    "    try2 = transitor()\n",
    "    \n",
    "    if(try1 == 'A' and try2=='B'):\n",
    "        successes += 1;\n",
    "\n",
    "print('Probability=', successes/trials)\n",
    "    "
   ]
  },
  {
   "cell_type": "markdown",
   "id": "1cce9191",
   "metadata": {},
   "source": [
    "# Binomial probability contributions and distributions"
   ]
  },
  {
   "cell_type": "code",
   "execution_count": 4,
   "id": "c15e9bdc",
   "metadata": {},
   "outputs": [
    {
     "name": "stdout",
     "output_type": "stream",
     "text": [
      "[ 6  2  4  5  4  4  7  4  4  5  5  6  3  4  8  6  6  5  6  4  4  5  9  6\n",
      "  4  3  4  4  4  3  4  6  5  8  7  4  2  3  5  8  5  6  3  4  3  7  3  5\n",
      "  5  5  6  6  4  5  3  9  6  7  6  1  6  5  6  5  7  7  4  6  5  4  6  7\n",
      "  6  6  6  4  3  8  5  7  4  4  4  8  2  7  4  5  5  7  6  5  4  2  3  3\n",
      "  5  5  6  4  6  3  2  5  5  8  4  8  3  6  7  4  6  5  7  8  3  6  6  4\n",
      "  5  6  7  4  4  2  4  5  4  6  6  5  3  8  3  5  5  4  6  6  2  6  5  4\n",
      "  5  4  6  5  3  4  7  7  3  4  3  4  6  5  5  7  5  5  5  6  6  8  4  7\n",
      "  5  6  4  3  4  6  6  5  6  6  2  7  3  6  4  6  7  5  6  5  5  6  3  6\n",
      "  6  5  6  6  5  6  5  3  4  5  4  5  6  6  6  7  8  6  5  4  8  6  4  6\n",
      "  3  7  6  5  4  7  4  3  7  6  7  3  7  7  6  6  3  2  8  3  6  8  1  6\n",
      "  5  5  6  8  8  3  4  5  4  7  4  4  6  8  6  6  8  6  5  8  3  6  4  5\n",
      "  6  5  3  7  5  7  6  8  5  5  7  7  6  5  4  4  4  5  5  7  2  6  5  4\n",
      "  2  7  5  3  4  5  3  3  5  5  5  5  7  6  7  8  5  5  8  6  8  4  5  5\n",
      "  4  5  6  6  9  4  6  4  4  5  4  5  4  4  4  2  5  3  7  5  5  3  5  7\n",
      "  5  4  7  3  8  3  2  4  3  4  4  7  3  5  7  6  5  6  6  6  5  2  2  5\n",
      "  6  6  5  5  3  6  6  1  6  4  8  5  2  4  4  6  5  4  4  6  7  4  5  5\n",
      "  4  6  6  5  4  4  3  6  4  5  6  3  4  5  6  4  7  5  6  6  4  2  5  7\n",
      "  7  5  6  4  7  8  5  4  8  5  6  6  6  5  3  7  2  6  4  6  5  5  4  4\n",
      "  6  7  4  5  2  3  5  5  6  3  7  5  6  6  5  8  3  5  7  4  5  6  3  4\n",
      "  6  4  9  7  5  7  4  5  5  3  6  6  7  2  3  4  4  4  4  5  5  4  5  5\n",
      "  6  4  4  2  2  3  8  3  5  7  5  7  4  7  4  8  7  5  6  5  4  8  2  5\n",
      "  6  6  7  4  4  4  6  5  4  4  5  4  5  3  5  8  5  6  5  5  5  4  7  4\n",
      "  4  7  4  6  5  4  5  4  6  3  4  6  6  5  5  6  4  6  7  6  3  2  6  4\n",
      "  6  3  5  3  3  3  4  6  6  5  5  6  5  7  6  5  2  6  7  6  5  4  4  4\n",
      "  2  6  5  4  6  6  4  4  5  7  4  8  6  6  7  6  5  4  7  6  8  6  6  4\n",
      "  8  3  6  7  6  5  8  2  6  4  7  6  3  7  7  5  4  7  4  4  6  8  4  7\n",
      "  5  4  3  6  6  5  4  5  3  8  4  6  4  2  4  6  5  4  4  4  3  5  5  4\n",
      "  7  4  8  6  5  5  4  6  4  6  3  5  6  7  5  8  5  6  7  4  5  5  2  7\n",
      "  4  6  4  3  5  2  3  8  5  6  7  5  5  5  5  6  7  4  5  7  6  4  7  4\n",
      "  5  6  6  5  4  5  6  5  6  6  6  4  8  5  5  5  1  5  6  4  5  6  7  5\n",
      "  3  4  7  4  6  5  4  6  5  6  3  8  3  6  6  4  6  7  5  5  2  5  6  5\n",
      "  6  8  5  5  2  6  7  2  4  7  6  5  6  5  8  3  4  3  5  8  3  6  4  5\n",
      "  5  6  5  3  9  5  5  3  5  4  6  5  7  6  3  4  5  1  7  6  6  5  4  4\n",
      "  7  2  5  5  6  5  4  3  3  7  4  5  7  5  6  6  5  5  4  5  5  6  6  4\n",
      "  6  5  4  7  4  6  5  5  4  4  5  6  7  3  8  4  7  8  7  5  4  4  3  5\n",
      "  6  6  4  4  4  6  6  5  5  6  5  3  5  4  6  4  5  3  5  3  5  5  7  5\n",
      "  4  5  4  4  5  3  5  8  4 10  4  7  6  6  4  7  5  7  6  7  5  7  5  3\n",
      "  8  6  5  6  3  5  5  8  2  5  6  4  4  3  4  7  3  6  3  6  4  6  5  6\n",
      "  6  4  5  8  5  6  4  7  2  4  8  5  2  5  1  7  2  4  3  6  7  8  5  4\n",
      "  5  3  6  3  7  6  7  4  3  6  6  6  5  3  4  5  3  2  2  5  2  6  4  4\n",
      "  7  5  6  7  5  3  3  3  5  6  4  2  6  6  7  2  5  3  5  7  4  5  4  7\n",
      "  6  5  3  6  8  6  7  6  5  6  8  7  5  3  4  6]\n"
     ]
    }
   ],
   "source": [
    "# reult of flipping a coin 10 times, testd 1000 times\n",
    "\n",
    "n, p = 10, 0.5 # number of trials, probability of each trial\n",
    "\n",
    "s= np.random.binomial(n, p, 1000)\n",
    "print(s)"
   ]
  },
  {
   "cell_type": "code",
   "execution_count": 5,
   "id": "c677d977",
   "metadata": {},
   "outputs": [
    {
     "data": {
      "text/plain": [
       "0.38615"
      ]
     },
     "execution_count": 5,
     "metadata": {},
     "output_type": "execute_result"
    }
   ],
   "source": [
    "# A real world example. A company drills 9 wild-cat oil exploration wells,\n",
    "# each with an estimated probability of success of 0.1. All nine wells fail.\n",
    "# what is the probability of that happening?\n",
    "# Let's do 20000 trials of the model and count the number that generate zero positive results.\n",
    "n = 9\n",
    "p = 0.1\n",
    "size = 20000\n",
    "\n",
    "sum(np.random.binomial(n, p, size)==0)/20000"
   ]
  },
  {
   "cell_type": "code",
   "execution_count": 42,
   "id": "ca19c0ec",
   "metadata": {},
   "outputs": [
    {
     "name": "stdout",
     "output_type": "stream",
     "text": [
      "2420\n"
     ]
    },
    {
     "name": "stderr",
     "output_type": "stream",
     "text": [
      "D:\\Anaconda\\lib\\site-packages\\seaborn\\distributions.py:2557: FutureWarning: `distplot` is a deprecated function and will be removed in a future version. Please adapt your code to use either `displot` (a figure-level function with similar flexibility) or `histplot` (an axes-level function for histograms).\n",
      "  warnings.warn(msg, FutureWarning)\n"
     ]
    },
    {
     "data": {
      "text/plain": [
       "[Text(0.5, 0, 'Binomial'), Text(0, 0.5, 'Density')]"
      ]
     },
     "execution_count": 42,
     "metadata": {},
     "output_type": "execute_result"
    },
    {
     "data": {
      "image/png": "[encoded data removed]",
      "text/plain": [
       "<Figure size 432x288 with 1 Axes>"
      ]
     },
     "metadata": {
      "needs_background": "light"
     },
     "output_type": "display_data"
    }
   ],
   "source": [
    "# Binomial probability distribution\n",
    "import seaborn as sns\n",
    "from scipy.stats import binom\n",
    "\n",
    "binom.rvs(n=10, p=0.5)\n",
    "binom.rvs(size=5, n=10, p=.5)\n",
    "\n",
    "binom_data = binom.rvs(n=10, p = 0.5, size=10000)\n",
    "print(sum(binom_data == 5))\n",
    "ax = sns.distplot(binom_data, kde=True, hist_kws={'linewidth': 20, 'alpha': 1})\n",
    "\n",
    "ax.set(xlabel='Binomial', ylabel='Density')"
   ]
  },
  {
   "cell_type": "markdown",
   "id": "061707e3",
   "metadata": {},
   "source": [
    "# Poission Probability Calculations & Distributions"
   ]
  },
  {
   "cell_type": "code",
   "execution_count": 76,
   "id": "7b93f362",
   "metadata": {},
   "outputs": [
    {
     "data": {
      "image/png": "[encoded data removed]",
      "text/plain": [
       "<Figure size 432x288 with 1 Axes>"
      ]
     },
     "metadata": {
      "needs_background": "light"
     },
     "output_type": "display_data"
    }
   ],
   "source": [
    "import matplotlib.pyplot as plt\n",
    "gaussian_data = np.random.normal(0.5, 2*np.sqrt(2*np.log(2)), 10000)\n",
    "data_poisson = np.random.poisson(0.5, 10000)\n",
    "\n",
    "plt.hist(gaussian_data, color='gray', label='Gaussian')\n",
    "plt.hist(data_poisson, color='skyblue', label='Poisson')\n",
    "\n",
    "plt.show()"
   ]
  },
  {
   "cell_type": "code",
   "execution_count": 78,
   "id": "7fa23106",
   "metadata": {},
   "outputs": [
    {
     "name": "stderr",
     "output_type": "stream",
     "text": [
      "D:\\Anaconda\\lib\\site-packages\\seaborn\\distributions.py:2557: FutureWarning: `distplot` is a deprecated function and will be removed in a future version. Please adapt your code to use either `displot` (a figure-level function with similar flexibility) or `histplot` (an axes-level function for histograms).\n",
      "  warnings.warn(msg, FutureWarning)\n"
     ]
    },
    {
     "data": {
      "text/plain": [
       "[Text(0.5, 0, 'Poisson')]"
      ]
     },
     "execution_count": 78,
     "metadata": {},
     "output_type": "execute_result"
    },
    {
     "data": {
      "image/png": "[encoded data removed]",
      "text/plain": [
       "<Figure size 432x288 with 1 Axes>"
      ]
     },
     "metadata": {
      "needs_background": "light"
     },
     "output_type": "display_data"
    }
   ],
   "source": [
    "from scipy.stats import poisson\n",
    "import seaborn as sns\n",
    "\n",
    "binom_data = poisson.rvs(mu=4, size=10000)\n",
    "\n",
    "ax = sns.distplot(binom_data, kde=True, color='orange', hist_kws={'linewidth': 15, 'alpha':1})\n",
    "\n",
    "ax.set(xlabel='Poisson')"
   ]
  },
  {
   "cell_type": "code",
   "execution_count": 80,
   "id": "cd13c478",
   "metadata": {},
   "outputs": [
    {
     "name": "stdout",
     "output_type": "stream",
     "text": [
      "0.06321459690112517\n"
     ]
    },
    {
     "data": {
      "image/png": "[encoded data removed]",
      "text/plain": [
       "<Figure size 432x288 with 1 Axes>"
      ]
     },
     "metadata": {
      "needs_background": "light"
     },
     "output_type": "display_data"
    }
   ],
   "source": [
    "from scipy.stats import poisson\n",
    "import matplotlib.pyplot as plt\n",
    "plt.ylabel('Probability of car passing')\n",
    "plt.xlabel('Number of cars')\n",
    "plt.title('Probability Distribution Curve')\n",
    "arr = []\n",
    "rv = poisson(25)\n",
    "for num in range(0,40):\n",
    "    arr.append(rv.pmf(num))\n",
    " \n",
    "#print(rv.pmf(28))\n",
    "prob = rv.pmf(28)\n",
    "print(prob)\n",
    "plt.grid(True)\n",
    "plt.plot(arr, linewidth=2.0)\n",
    "plt.plot([28], [prob], marker='o', markersize=6, color=\"red\")\n",
    "plt.show()"
   ]
  },
  {
   "cell_type": "code",
   "execution_count": null,
   "id": "18d75cf6",
   "metadata": {},
   "outputs": [],
   "source": []
  }
 ],
 "metadata": {
  "kernelspec": {
   "display_name": "Python 3",
   "language": "python",
   "name": "python3"
  },
  "language_info": {
   "codemirror_mode": {
    "name": "ipython",
    "version": 3
   },
   "file_extension": ".py",
   "mimetype": "text/x-python",
   "name": "python",
   "nbconvert_exporter": "python",
   "pygments_lexer": "ipython3",
   "version": "3.8.8"
  }
 },
 "nbformat": 4,
 "nbformat_minor": 5
}
